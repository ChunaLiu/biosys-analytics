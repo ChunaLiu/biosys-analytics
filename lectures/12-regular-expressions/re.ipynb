{
 "cells": [
  {
   "cell_type": "markdown",
   "metadata": {},
   "source": [
    "# Introduction to Regular Expressions in Python"
   ]
  },
  {
   "cell_type": "code",
   "execution_count": null,
   "metadata": {
    "scrolled": true
   },
   "outputs": [],
   "source": [
    "# To use regular expressions\n",
    "import re"
   ]
  },
  {
   "cell_type": "code",
   "execution_count": null,
   "metadata": {
    "scrolled": true
   },
   "outputs": [],
   "source": [
    "# How do we match a number?\n",
    "print(re.match('1', '1'))"
   ]
  },
  {
   "cell_type": "code",
   "execution_count": null,
   "metadata": {
    "scrolled": true
   },
   "outputs": [],
   "source": [
    "# But that only works for just \"1\"\n",
    "print(re.match('2', '1'))"
   ]
  },
  {
   "cell_type": "code",
   "execution_count": null,
   "metadata": {
    "scrolled": true
   },
   "outputs": [],
   "source": [
    "# How do we match all the numbers from 0 to 9? \n",
    "re.match('[0-9]', '1')"
   ]
  },
  {
   "cell_type": "code",
   "execution_count": null,
   "metadata": {
    "scrolled": true
   },
   "outputs": [],
   "source": [
    "# There is a short-hand for the character class `[0-9]` that is `\\d` (digit)\n",
    "re.match('\\d', '1')"
   ]
  },
  {
   "cell_type": "code",
   "execution_count": null,
   "metadata": {
    "scrolled": true
   },
   "outputs": [],
   "source": [
    "# But this only matches the first number we see\n",
    "re.match('\\d', '123')"
   ]
  },
  {
   "cell_type": "code",
   "execution_count": null,
   "metadata": {
    "scrolled": true
   },
   "outputs": [],
   "source": [
    "# We can use `{}` to indicate `{min,max}`, `{min,}`, `{,max}`, or `{exactly}`\n",
    "print(re.match('\\d{1,4}', '1234567890'))\n",
    "print(re.match('\\d{1,}', '1234567890'))\n",
    "print(re.match('\\d{,5}', '1234567890'))\n",
    "print(re.match('\\d{8}', '1234567890'))"
   ]
  },
  {
   "cell_type": "code",
   "execution_count": null,
   "metadata": {
    "scrolled": true
   },
   "outputs": [],
   "source": [
    "# What if we wanted to recognize a US SSN (social security number)? \n",
    "# We will use `re.compile` to create the regex and use it in a `for` loop \n",
    "ssn_re = re.compile('\\d{3}-\\d{2}-\\d{4}')\n",
    "for s in ['123456789', '123-456-789', '123-45-6789']:\n",
    "    print('{}: {}'.format(s, ssn_re.match(s)))"
   ]
  },
  {
   "cell_type": "code",
   "execution_count": null,
   "metadata": {},
   "outputs": [],
   "source": [
    "# SSNs always use a dash (`-`) as a number separator, but dates do not\n",
    "date_re = re.compile('\\d{4}-\\d{2}-\\d{2}')\n",
    "dates = ['1999-01-01', '1999/01/01']\n",
    "for d in dates:\n",
    "    print('{}: {}'.format(d, date_re.match(d)))"
   ]
  },
  {
   "cell_type": "code",
   "execution_count": null,
   "metadata": {
    "scrolled": true
   },
   "outputs": [],
   "source": [
    "# Just as we created a character class with `[0-9]` to \n",
    "# represent all the numbers from 0 to 9,\n",
    "# we can create a class to represent the separators \"/\" and \"-\" \n",
    "# with `[/-]`\n",
    "# As regular expressions get longer, it makes sense to break\n",
    "# each unit onto a different line and use Python's literal \n",
    "# string expression to join them into a single string.\n",
    "# As a bonus, we can comment on each unit of the regex.\n",
    "\n",
    "date_re = re.compile('\\d{4}'  # year\n",
    "                     '[/-]'   # separator\n",
    "                     '\\d{2}'  # month\n",
    "                     '[/-]'   # separator\n",
    "                     '\\d{2}') # day\n",
    "\n",
    "dates = ['1999-01-01', '1999/01/01']\n",
    "for d in dates:\n",
    "    print('{}: {}'.format(d, date_re.match(d)))"
   ]
  },
  {
   "cell_type": "code",
   "execution_count": null,
   "metadata": {},
   "outputs": [],
   "source": [
    "# If we wanted to extract each part of the date (year, month, day),\n",
    "# we can use parentheses `()` around the parts we want to capture \n",
    "# into `groups`. The group \"0\" is the whole string that was match, \n",
    "# and they are numbered sequentially after that for each group\n",
    "#\n",
    "# Can you change the regex to match all three strings?\n",
    "date_re = re.compile('(\\d{4})'\n",
    "                     '[/-]'\n",
    "                     '(\\d{2})'\n",
    "                     '[/-]'\n",
    "                     '(\\d{2})')\n",
    "\n",
    "dates = ['1999-01-01', '1999/01/01', '1999.01.01']\n",
    "for d in dates:\n",
    "    match = date_re.match(d)\n",
    "    print('{}: {}'.format(d, 'match' if match else 'miss'))\n",
    "    if match:\n",
    "        print(match.groups())\n",
    "        print('year:', match.group(1))\n",
    "    print()"
   ]
  },
  {
   "cell_type": "code",
   "execution_count": null,
   "metadata": {},
   "outputs": [],
   "source": [
    "# As we add more groups, it can be confusing to \n",
    "# remember them by their positions, so we can name them with\n",
    "# `?P<name>` just inside the parens\n",
    "date_re = re.compile('(?P<year>\\d{4})'\n",
    "                     '[/-]'\n",
    "                     '(?P<month>\\d{2})'\n",
    "                     '[/-]'\n",
    "                     '(?P<day>\\d{2})')\n",
    "\n",
    "dates = ['1999-01-01', '1999/01/01', '1999.01.01']\n",
    "\n",
    "for d in dates:\n",
    "    match = date_re.match(d)\n",
    "    print('{}: {}'.format(d, 'match' if match else 'miss'))\n",
    "    if match:\n",
    "        print('{} = year \"{}\" month \"{}\" day \"{}\"'.format(d, \n",
    "                                                          match.group('year'), \n",
    "                                                          match.group('month'), \n",
    "                                                          match.group('day')))\n",
    "    print()"
   ]
  },
  {
   "cell_type": "code",
   "execution_count": null,
   "metadata": {},
   "outputs": [],
   "source": [
    "# What if we wanted to match a US phone number?\n",
    "phone_re = re.compile('(\\d{3})'  # area code\n",
    "                      ' '        # a space\n",
    "                      '\\d{3}'    # prefix\n",
    "                      '-'        # dash\n",
    "                      '\\d{4}')   # line number\n",
    "phone_re.match('(800) 555-1212')"
   ]
  },
  {
   "cell_type": "code",
   "execution_count": null,
   "metadata": {},
   "outputs": [],
   "source": [
    "# Why didn't that work?\n",
    "# What do those parentheses do again? They group!\n",
    "# So we need to indicate that the parens are literal \n",
    "# things to match by using backslashes `\\` to escape them.\n",
    "phone_re = re.compile('\\('     # left paren\n",
    "                      '\\d{3}'  # area code\n",
    "                      '\\)'     # right paren\n",
    "                      ' '      # space\n",
    "                      '\\d{3}'  # prefix\n",
    "                      '-'      # dash\n",
    "                      '\\d{4}') # line number\n",
    "phone_re.match('(800) 555-1212')"
   ]
  },
  {
   "cell_type": "code",
   "execution_count": null,
   "metadata": {},
   "outputs": [],
   "source": [
    "# We could also use character classes to make this more readable\n",
    "phone_re = re.compile('[(]'    # left paren\n",
    "                      '\\d{3}'  # area code\n",
    "                      '[)]'    # right paren\n",
    "                      ' '      # space\n",
    "                      '\\d{3}'  # prefix\n",
    "                      '-'      # dash\n",
    "                      '\\d{4}') # line number\n",
    "\n",
    "phone_re.match('(800) 555-1212')"
   ]
  },
  {
   "cell_type": "code",
   "execution_count": null,
   "metadata": {},
   "outputs": [],
   "source": [
    "# There is not always a space after the area code, and it may \n",
    "# sometimes it may be more than one space (or a tab?)\n",
    "# We can use the `\\s` to indicate any type of whitespace and \n",
    "# `*` to indicate zero or more\n",
    "phone_re = re.compile('[(]'    # left paren\n",
    "                      '\\d{3}'  # area code\n",
    "                      '[)]'    # right paren\n",
    "                      '\\s*'    # zero or more spaces\n",
    "                      '\\d{3}'  # prefix\n",
    "                      '-'      # dash\n",
    "                      '\\d{4}') # line number\n",
    "phones = ['(800)555-1212', '(800) 555-1212', '(800)  555-1212']\n",
    "for phone in phones:\n",
    "    print('{}\\t{}'.format(phone, phone_re.match(phone)))"
   ]
  },
  {
   "cell_type": "code",
   "execution_count": null,
   "metadata": {},
   "outputs": [],
   "source": [
    "# When the parens around the area code are optional,\n",
    "# usually there is a dash to separate the area code\n",
    "phone_re = re.compile('[(]?'   # optional left paren\n",
    "                      '\\d{3}'  # area code\n",
    "                      '[)]?'   # optional right paren\n",
    "                      '[-]?'   # optional dash\n",
    "                      '\\s*'    # zero or more whitespace\n",
    "                      '\\d{3}'  # prefix\n",
    "                      '-'      # dash\n",
    "                      '\\d{4}') # line number\n",
    "\n",
    "phones = ['(800)555-1212', '(800) 555-1212', '800-555-1212']\n",
    "for phone in phones:\n",
    "    print('{}\\t{}'.format(phone, phone_re.match(phone)))"
   ]
  },
  {
   "cell_type": "code",
   "execution_count": null,
   "metadata": {
    "scrolled": true
   },
   "outputs": [],
   "source": [
    "# This has the affect of matching a dash after parens which \n",
    "# is generally not a valid format\n",
    "phone_re = re.compile('[(]?'\n",
    "                      '\\d{3}'\n",
    "                      '[)]?'\n",
    "                      '[-]?'\n",
    "                      '\\s*'\n",
    "                      '\\d{3}'\n",
    "                      '-'\n",
    "                      '\\d{4}')\n",
    "\n",
    "phone_re.match('(800)-555-1212')"
   ]
  },
  {
   "cell_type": "code",
   "execution_count": null,
   "metadata": {},
   "outputs": [],
   "source": [
    "# We really have to create two regexes to handle these cases\n",
    "phone_re1 = re.compile('[(]'\n",
    "                       '\\d{3}'\n",
    "                       '[)]'\n",
    "                       '\\s*'\n",
    "                       '\\d{3}'\n",
    "                       '-'\n",
    "                       '\\d{4}')\n",
    "\n",
    "phone_re2 = re.compile('\\d{3}'\n",
    "                       '-'\n",
    "                       '\\d{3}'\n",
    "                       '-'\n",
    "                       '\\d{4}')\n",
    "\n",
    "phones = ['(800)555-1212', '(800) 555-1212', '800-555-1212', '(800)-555-1212']\n",
    "for phone in phones:\n",
    "    match1 = phone_re1.match(phone)\n",
    "    match2 = phone_re2.match(phone)\n",
    "    print('{}\\t{}'.format(phone, 'match' if match1 or match2 else 'miss'))"
   ]
  },
  {
   "cell_type": "code",
   "execution_count": null,
   "metadata": {
    "scrolled": true
   },
   "outputs": [],
   "source": [
    "# I worked with a graphic artist who always insisted on using \n",
    "# dots as the number separator, and sometimes there are no \n",
    "# separators at all. The combination of these two regexes find\n",
    "# the valid formats and skip the invalid one.\n",
    "\n",
    "phone_re1 = re.compile('[(]'\n",
    "                       '\\d{3}'\n",
    "                       '[)]'\n",
    "                       '\\s*'\n",
    "                       '\\d{3}'\n",
    "                       '[.-]'\n",
    "                       '\\d{4}')\n",
    "\n",
    "phone_re2 = re.compile('\\d{3}'\n",
    "                       '[.-]?'\n",
    "                       '\\d{3}'\n",
    "                       '[.-]?'\n",
    "                       '\\d{4}')\n",
    "\n",
    "phones = ['8005551212', '(800)555-1212', '(800) 555-1212', \n",
    "          '800-555-1212', '(800)-555-1212', '800.555.1212']\n",
    "\n",
    "for phone in phones:\n",
    "    match = phone_re1.match(phone) or phone_re2.match(phone)\n",
    "    print('{}\\t{}'.format(phone, 'match' if match else 'miss'))"
   ]
  },
  {
   "cell_type": "code",
   "execution_count": null,
   "metadata": {
    "scrolled": true
   },
   "outputs": [],
   "source": [
    "# OK, now let's normalize the numbers by using parens to\n",
    "# capture the area code, prefix, and line number and then \n",
    "# create a standard representation.\n",
    "phone_re1 = re.compile('[(]'\n",
    "                       '(\\d{3})'  # group 1\n",
    "                       '[)]'\n",
    "                       '\\s*'\n",
    "                       '(\\d{3})'  # group 2\n",
    "                       '[.-]'\n",
    "                       '(\\d{4})') # group 3\n",
    "\n",
    "phone_re2 = re.compile('(\\d{3})'  # group 1\n",
    "                       '[.-]?'\n",
    "                       '(\\d{3})'  # group 2\n",
    "                       '[.-]?'\n",
    "                       '(\\d{4})') # group 3\n",
    "\n",
    "phones = ['8005551212', '(800)555-1212', '(800) 555-1212', \n",
    "          '800-555-1212', '(800)-555-1212', '800.555.1212']\n",
    "\n",
    "for phone in phones:\n",
    "    match = phone_re1.match(phone) or phone_re2.match(phone)\n",
    "    standard = '{}-{}-{}'.format(match.group(1), \n",
    "                                 match.group(2), \n",
    "                                 match.group(3)) if match else 'miss'\n",
    "    print('{}\\t{}'.format(phone, standard))"
   ]
  },
  {
   "cell_type": "code",
   "execution_count": null,
   "metadata": {
    "scrolled": true
   },
   "outputs": [],
   "source": [
    "# And if we add named capture groups...\n",
    "phone_re1 = re.compile('[(]'\n",
    "                       '(?P<area_code>\\d{3})'\n",
    "                       '[)]'\n",
    "                       '\\s*'\n",
    "                       '(?P<prefix>\\d{3})'\n",
    "                       '[.-]'\n",
    "                       '(?P<line_num>\\d{4})')\n",
    "\n",
    "phone_re2 = re.compile('(?P<area_code>\\d{3})'\n",
    "                       '[.-]?'\n",
    "                       '(?P<prefix>\\d{3})'\n",
    "                       '[.-]?'\n",
    "                       '(?P<line_num>\\d{4})')\n",
    "\n",
    "phones = ['8005551212', '(800)555-1212', '(800) 555-1212', \n",
    "          '800-555-1212', '(800)-555-1212', '800.555.1212']\n",
    "\n",
    "for phone in phones:\n",
    "    match = phone_re1.match(phone) or phone_re2.match(phone)\n",
    "    standard = '{}-{}-{}'.format(match.group('area_code'), \n",
    "                                 match.group('prefix'), \n",
    "                                 match.group('line_num')) if match else 'miss'\n",
    "    print('{}\\t{}'.format(phone, standard))"
   ]
  },
  {
   "cell_type": "code",
   "execution_count": null,
   "metadata": {
    "scrolled": true
   },
   "outputs": [],
   "source": [
    "# And if we add named capture groups\n",
    "# and named groups in `format` ...\n",
    "phone_re1 = re.compile('[(]'\n",
    "                       '(?P<area_code>\\d{3})'\n",
    "                       '[)]'\n",
    "                       '\\s*(?P<prefix>\\d{3})'\n",
    "                       '[.-]'\n",
    "                       '(?P<line_num>\\d{4})')\n",
    "phone_re2 = re.compile('(?P<area_code>\\d{3})'\n",
    "                       '[.-]?'\n",
    "                       '(?P<prefix>\\d{3})'\n",
    "                       '[.-]?'\n",
    "                       '(?P<line_num>\\d{4})')\n",
    "phones = ['8005551212', '(800)555-1212', '(800) 555-1212', \n",
    "          '800-555-1212', '(800)-555-1212', '800.555.1212']\n",
    "for phone in phones:\n",
    "    match = phone_re1.match(phone) or phone_re2.match(phone)\n",
    "    tmpl = '{area_code}-{prefix}-{line_num}'\n",
    "    standard = tmpl.format(prefix=match.group('prefix'), \n",
    "                           area_code=match.group('area_code'),\n",
    "                           line_num=match.group('line_num')) if match else 'miss'\n",
    "    print('{}\\t{}'.format(phone, standard))"
   ]
  },
  {
   "cell_type": "code",
   "execution_count": null,
   "metadata": {
    "scrolled": true
   },
   "outputs": [],
   "source": [
    "# Write the regular expressions to parse the year, month, and\n",
    "# day from the following date formats found in SRA metadata.\n",
    "# When no day is present, e.g., \"2/14,\" use \"01\" for the day.\n",
    "\n",
    "d1 = \"2012-03-09T08:59\"\n",
    "print(d1, re.match('', d1))\n",
    "\n",
    "d2 = \"2012-03-09T08:59:03\"\n",
    "\n",
    "d3 = \"2017-06-16Z\"\n",
    "\n",
    "d4 = \"2015-01\"\n",
    "\n",
    "d5 = \"2015-01/2015-02\"\n",
    "\n",
    "d6 = \"2015-01-03/2015-02-14\" \n",
    "\n",
    "d7 = \"20100910\"\n",
    "\n",
    "d8 = \"12/06\"\n",
    "\n",
    "d9 = \"2/14\"\n",
    "\n",
    "d10 = \"2/14-12/15\"\n",
    "\n",
    "d11 = \"2017-06-16Z\"\n",
    "\n",
    "# \"Excel\" format! What is that?! Look it up.\n",
    "d12 = \"34210\"\n",
    "\n",
    "d13 = \"Dec-2015\"\n",
    "\n",
    "d14 = \"March-2017\"\n",
    "\n",
    "d15 = \"May, 2017\"\n",
    "\n",
    "d16 = \"March-April 2017\"\n",
    "\n",
    "d17 = \"July of 2011\"\n",
    "\n",
    "d18 = \"2008 August\""
   ]
  },
  {
   "cell_type": "code",
   "execution_count": null,
   "metadata": {
    "scrolled": true
   },
   "outputs": [],
   "source": [
    "# Now combine all your code from the previous cell to normalize\n",
    "# all the dates into the same format.\n",
    "\n",
    "dates = [\"2012-03-09T08:59\", \"2012-03-09T08:59:03\", \"2017-06-16Z\", \n",
    "         \"2015-01\", \"2015-01/2015-02\", \"2015-01-03/2015-02-14\", \n",
    "         \"20100910\", \"12/06\", \"2/14\", \"2/14-12/15\", \"2017-06-16Z\", \n",
    "         \"34210\", \"Dec-2015\", \"March-2017\", \"May, 2017\", \n",
    "         \"March-April 2017\", \"July of 2011\", \"2008 August\"]\n",
    "\n",
    "for date in dates:\n",
    "    year = '1999'\n",
    "    month = '01'\n",
    "    day = '01'\n",
    "    print('{}-{}-{}\\t{}'.format(year, month, day, date))"
   ]
  }
 ],
 "metadata": {
  "kernelspec": {
   "display_name": "Python 3",
   "language": "python",
   "name": "python3"
  },
  "language_info": {
   "codemirror_mode": {
    "name": "ipython",
    "version": 3
   },
   "file_extension": ".py",
   "mimetype": "text/x-python",
   "name": "python",
   "nbconvert_exporter": "python",
   "pygments_lexer": "ipython3",
   "version": "3.6.8"
  }
 },
 "nbformat": 4,
 "nbformat_minor": 2
}
